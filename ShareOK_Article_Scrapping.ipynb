{
 "cells": [
  {
   "cell_type": "markdown",
   "metadata": {},
   "source": [
    "# Example Scraping ShareOK.org For Latest 10 Articles By Department"
   ]
  },
  {
   "cell_type": "code",
   "execution_count": 1,
   "metadata": {},
   "outputs": [],
   "source": [
    "import requests\n",
    "from bs4 import BeautifulSoup"
   ]
  },
  {
   "cell_type": "code",
   "execution_count": 2,
   "metadata": {},
   "outputs": [],
   "source": [
    "count = 10  # number of articles to include per page\n",
    "\n",
    "#collection_handle = \"11244/23528\"  # OU - Theses\n",
    "collection_handle = \"11244/10476\"  # OU - Dissertations\n",
    "\n",
    "department = \"Department+of+Anthropology\"\n",
    "\n",
    "url = f\"https://shareok.org/handle/{collection_handle}/discover?filtertype_1=group&filter_relational_operator_1=equals&filter_1={department}&submit_apply_filter=&query=&rpp={count}&sort_by=dc.date.issued_dt&order=desc\""
   ]
  },
  {
   "cell_type": "markdown",
   "metadata": {},
   "source": [
    "### Fetch content for the above specified url and get results ready for parsing"
   ]
  },
  {
   "cell_type": "code",
   "execution_count": 3,
   "metadata": {},
   "outputs": [],
   "source": [
    "resp = requests.get(url)\n",
    "soup = BeautifulSoup(resp.text, 'html.parser')"
   ]
  },
  {
   "cell_type": "markdown",
   "metadata": {},
   "source": [
    "### Print out the article date, title, and url (This only returns results for the first page)"
   ]
  },
  {
   "cell_type": "code",
   "execution_count": 4,
   "metadata": {},
   "outputs": [
    {
     "name": "stdout",
     "output_type": "stream",
     "text": [
      "2018-05-11 At Home In The Lows:  An Ethnography of Meaning-Making In Intimate Spaces \n",
      " https://shareok.org/handle/11244/299900\n",
      "2018-05-11 “HEY, THERE’S WI-FI AT CAMP!”: REMEDIATING MATERIALITY, LANGUAGE LEARNING, AND DIGITAL IDENTITY WITHIN THE APSÁALOOKE LANGUAGE APP \n",
      " https://shareok.org/handle/11244/299829\n",
      "2018 Novel Techniques for the Description and Interpretation of Microbial Communities in the Modern Human Gut and Ancient Human Oral Microbiome \n",
      " https://shareok.org/handle/11244/299937\n",
      "2017-12 Alternate Pathways to Ritual Power: Evidence for Centralized Production and Long-Distance Exchange between Northern and Southern Caddo Communities \n",
      " https://shareok.org/handle/11244/52939\n",
      "2017-12 \"The Wish to be a Red Indian:\" Indianthusiasm and Racial Ideology in Germany \n",
      " https://shareok.org/handle/11244/52931\n",
      "2017-05 The Ball Game of the Southeast: Stickball and Cultural Resource Management (CRM) in the Anthropocene \n",
      " https://shareok.org/handle/11244/50785\n",
      "2017-05 The Learner Varieties of the Chikasha Academy: Chickasaw Adult Language Acquisition, Change, and Revitalization \n",
      " https://shareok.org/handle/11244/50825\n",
      "2017-05 Dialogue as a Foundation for Development: Syrian Collective Trauma and Memory, Actor Mapping, and Perspectives on Syria \n",
      " https://shareok.org/handle/11244/50807\n",
      "2017-05 Touching the Past: Examining Social Memory Practices in the Mimbres Region of Southwest New Mexico \n",
      " https://shareok.org/handle/11244/50844\n",
      "2017 Anxiety and Empowerment: An Ethnography of Science in the Middle \n",
      " https://shareok.org/handle/11244/50911\n"
     ]
    }
   ],
   "source": [
    "artifacts = soup.find_all(\"div\", {\"class\": \"ds-artifact-item\"})\n",
    "for artifact in artifacts:\n",
    "    description = artifact.find(\"div\", {\"class\": \"artifact-description\"})\n",
    "    date = artifact.find(\"span\", {\"class\":\"date\"}).text\n",
    "    anchor = description.find(\"a\")\n",
    "    url = anchor['href']\n",
    "    text = anchor.find('h4').text\n",
    "    print(date, text, f\"https://shareok.org{url}\")"
   ]
  },
  {
   "cell_type": "code",
   "execution_count": null,
   "metadata": {},
   "outputs": [],
   "source": []
  }
 ],
 "metadata": {
  "kernelspec": {
   "display_name": "Python 3",
   "language": "python",
   "name": "python3"
  },
  "language_info": {
   "codemirror_mode": {
    "name": "ipython",
    "version": 3
   },
   "file_extension": ".py",
   "mimetype": "text/x-python",
   "name": "python",
   "nbconvert_exporter": "python",
   "pygments_lexer": "ipython3",
   "version": "3.7.2"
  }
 },
 "nbformat": 4,
 "nbformat_minor": 2
}
